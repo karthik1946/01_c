{
  "cells": [
    {
      "cell_type": "markdown",
      "metadata": {
        "id": "view-in-github",
        "colab_type": "text"
      },
      "source": [
        "<a href=\"https://colab.research.google.com/github/karthik1946/01_c/blob/main/dl_assignment.ipynb\" target=\"_parent\"><img src=\"https://colab.research.google.com/assets/colab-badge.svg\" alt=\"Open In Colab\"/></a>"
      ]
    },
    {
      "cell_type": "code",
      "execution_count": 1,
      "metadata": {
        "colab": {
          "base_uri": "https://localhost:8080/"
        },
        "id": "xx0wO6fQMjKU",
        "outputId": "239e755e-5c82-461e-98d9-e029e858b085"
      },
      "outputs": [
        {
          "output_type": "stream",
          "name": "stdout",
          "text": [
            "Drive already mounted at /content/drive; to attempt to forcibly remount, call drive.mount(\"/content/drive\", force_remount=True).\n"
          ]
        }
      ],
      "source": [
        "from google.colab import drive\n",
        "drive.mount('/content/drive')"
      ]
    },
    {
      "cell_type": "code",
      "execution_count": 2,
      "metadata": {
        "id": "HCUmgTLYO7W9",
        "colab": {
          "base_uri": "https://localhost:8080/"
        },
        "outputId": "0100a0d3-3685-4143-c1d1-eaae64c00ecc"
      },
      "outputs": [
        {
          "output_type": "execute_result",
          "data": {
            "text/plain": [
              "(194369, 38)"
            ]
          },
          "metadata": {},
          "execution_count": 2
        }
      ],
      "source": [
        "import pandas as pd\n",
        "\n",
        "# Set display options to show more columns and rows\n",
        "pd.set_option('display.max_columns', None)\n",
        "pd.set_option('display.max_rows', None)\n",
        "\n",
        "file_names = [\"/content/drive/MyDrive/S-1/Train/1.txt\", \"/content/drive/MyDrive/S-1/Train/2.txt\", \"/content/drive/MyDrive/S-1/Train/3.txt\", \"/content/drive/MyDrive/S-1/Train/4.txt\", \"/content/drive/MyDrive/S-1/Train/5.txt\", \"/content/drive/MyDrive/S-1/Train/6.txt\", \"/content/drive/MyDrive/S-1/Train/7.txt\", \"/content/drive/MyDrive/S-1/Train/8.txt\"]\n",
        "\n",
        "concatenated_data = pd.DataFrame()\n",
        "\n",
        "for file_name in file_names:\n",
        "    data = pd.read_csv(file_name, delimiter=',', header=None)\n",
        "    concatenated_data = pd.concat([concatenated_data, data], axis=0)\n",
        "\n",
        "concatenated_data.reset_index(drop=True, inplace=True)\n",
        "\n",
        "concatenated_data.shape\n"
      ]
    },
    {
      "cell_type": "code",
      "execution_count": 3,
      "metadata": {
        "colab": {
          "base_uri": "https://localhost:8080/"
        },
        "id": "KoHCbiwXpLKB",
        "outputId": "756ebe9a-f9a5-469f-8497-ce9fc57607a8"
      },
      "outputs": [
        {
          "output_type": "stream",
          "name": "stdout",
          "text": [
            "Requirement already satisfied: tensorflow in /usr/local/lib/python3.10/dist-packages (2.12.0)\n",
            "Requirement already satisfied: absl-py>=1.0.0 in /usr/local/lib/python3.10/dist-packages (from tensorflow) (1.4.0)\n",
            "Requirement already satisfied: astunparse>=1.6.0 in /usr/local/lib/python3.10/dist-packages (from tensorflow) (1.6.3)\n",
            "Requirement already satisfied: flatbuffers>=2.0 in /usr/local/lib/python3.10/dist-packages (from tensorflow) (23.5.26)\n",
            "Requirement already satisfied: gast<=0.4.0,>=0.2.1 in /usr/local/lib/python3.10/dist-packages (from tensorflow) (0.4.0)\n",
            "Requirement already satisfied: google-pasta>=0.1.1 in /usr/local/lib/python3.10/dist-packages (from tensorflow) (0.2.0)\n",
            "Requirement already satisfied: grpcio<2.0,>=1.24.3 in /usr/local/lib/python3.10/dist-packages (from tensorflow) (1.59.2)\n",
            "Requirement already satisfied: h5py>=2.9.0 in /usr/local/lib/python3.10/dist-packages (from tensorflow) (3.9.0)\n",
            "Requirement already satisfied: jax>=0.3.15 in /usr/local/lib/python3.10/dist-packages (from tensorflow) (0.3.25)\n",
            "Requirement already satisfied: keras<2.13,>=2.12.0 in /usr/local/lib/python3.10/dist-packages (from tensorflow) (2.12.0)\n",
            "Requirement already satisfied: libclang>=13.0.0 in /usr/local/lib/python3.10/dist-packages (from tensorflow) (16.0.6)\n",
            "Requirement already satisfied: numpy<1.24,>=1.22 in /usr/local/lib/python3.10/dist-packages (from tensorflow) (1.23.5)\n",
            "Requirement already satisfied: opt-einsum>=2.3.2 in /usr/local/lib/python3.10/dist-packages (from tensorflow) (3.3.0)\n",
            "Requirement already satisfied: packaging in /usr/local/lib/python3.10/dist-packages (from tensorflow) (23.2)\n",
            "Requirement already satisfied: protobuf!=4.21.0,!=4.21.1,!=4.21.2,!=4.21.3,!=4.21.4,!=4.21.5,<5.0.0dev,>=3.20.3 in /usr/local/lib/python3.10/dist-packages (from tensorflow) (3.20.3)\n",
            "Requirement already satisfied: setuptools in /usr/local/lib/python3.10/dist-packages (from tensorflow) (67.7.2)\n",
            "Requirement already satisfied: six>=1.12.0 in /usr/local/lib/python3.10/dist-packages (from tensorflow) (1.16.0)\n",
            "Requirement already satisfied: tensorboard<2.13,>=2.12 in /usr/local/lib/python3.10/dist-packages (from tensorflow) (2.12.0)\n",
            "Requirement already satisfied: tensorflow-estimator<2.13,>=2.12.0 in /usr/local/lib/python3.10/dist-packages (from tensorflow) (2.12.0)\n",
            "Requirement already satisfied: termcolor>=1.1.0 in /usr/local/lib/python3.10/dist-packages (from tensorflow) (2.3.0)\n",
            "Requirement already satisfied: typing-extensions>=3.6.6 in /usr/local/lib/python3.10/dist-packages (from tensorflow) (4.5.0)\n",
            "Requirement already satisfied: wrapt<1.15,>=1.11.0 in /usr/local/lib/python3.10/dist-packages (from tensorflow) (1.14.1)\n",
            "Requirement already satisfied: tensorflow-io-gcs-filesystem>=0.23.1 in /usr/local/lib/python3.10/dist-packages (from tensorflow) (0.34.0)\n",
            "Requirement already satisfied: wheel<1.0,>=0.23.0 in /usr/local/lib/python3.10/dist-packages (from astunparse>=1.6.0->tensorflow) (0.41.3)\n",
            "Requirement already satisfied: scipy>=1.5 in /usr/local/lib/python3.10/dist-packages (from jax>=0.3.15->tensorflow) (1.11.3)\n",
            "Requirement already satisfied: google-auth<3,>=1.6.3 in /usr/local/lib/python3.10/dist-packages (from tensorboard<2.13,>=2.12->tensorflow) (2.17.3)\n",
            "Requirement already satisfied: google-auth-oauthlib<0.5,>=0.4.1 in /usr/local/lib/python3.10/dist-packages (from tensorboard<2.13,>=2.12->tensorflow) (0.4.6)\n",
            "Requirement already satisfied: markdown>=2.6.8 in /usr/local/lib/python3.10/dist-packages (from tensorboard<2.13,>=2.12->tensorflow) (3.5.1)\n",
            "Requirement already satisfied: requests<3,>=2.21.0 in /usr/local/lib/python3.10/dist-packages (from tensorboard<2.13,>=2.12->tensorflow) (2.31.0)\n",
            "Requirement already satisfied: tensorboard-data-server<0.8.0,>=0.7.0 in /usr/local/lib/python3.10/dist-packages (from tensorboard<2.13,>=2.12->tensorflow) (0.7.2)\n",
            "Requirement already satisfied: tensorboard-plugin-wit>=1.6.0 in /usr/local/lib/python3.10/dist-packages (from tensorboard<2.13,>=2.12->tensorflow) (1.8.1)\n",
            "Requirement already satisfied: werkzeug>=1.0.1 in /usr/local/lib/python3.10/dist-packages (from tensorboard<2.13,>=2.12->tensorflow) (3.0.1)\n",
            "Requirement already satisfied: cachetools<6.0,>=2.0.0 in /usr/local/lib/python3.10/dist-packages (from google-auth<3,>=1.6.3->tensorboard<2.13,>=2.12->tensorflow) (5.3.2)\n",
            "Requirement already satisfied: pyasn1-modules>=0.2.1 in /usr/local/lib/python3.10/dist-packages (from google-auth<3,>=1.6.3->tensorboard<2.13,>=2.12->tensorflow) (0.3.0)\n",
            "Requirement already satisfied: rsa<5,>=3.1.4 in /usr/local/lib/python3.10/dist-packages (from google-auth<3,>=1.6.3->tensorboard<2.13,>=2.12->tensorflow) (4.9)\n",
            "Requirement already satisfied: requests-oauthlib>=0.7.0 in /usr/local/lib/python3.10/dist-packages (from google-auth-oauthlib<0.5,>=0.4.1->tensorboard<2.13,>=2.12->tensorflow) (1.3.1)\n",
            "Requirement already satisfied: charset-normalizer<4,>=2 in /usr/local/lib/python3.10/dist-packages (from requests<3,>=2.21.0->tensorboard<2.13,>=2.12->tensorflow) (3.3.2)\n",
            "Requirement already satisfied: idna<4,>=2.5 in /usr/local/lib/python3.10/dist-packages (from requests<3,>=2.21.0->tensorboard<2.13,>=2.12->tensorflow) (3.4)\n",
            "Requirement already satisfied: urllib3<3,>=1.21.1 in /usr/local/lib/python3.10/dist-packages (from requests<3,>=2.21.0->tensorboard<2.13,>=2.12->tensorflow) (2.0.7)\n",
            "Requirement already satisfied: certifi>=2017.4.17 in /usr/local/lib/python3.10/dist-packages (from requests<3,>=2.21.0->tensorboard<2.13,>=2.12->tensorflow) (2023.7.22)\n",
            "Requirement already satisfied: MarkupSafe>=2.1.1 in /usr/local/lib/python3.10/dist-packages (from werkzeug>=1.0.1->tensorboard<2.13,>=2.12->tensorflow) (2.1.3)\n",
            "Requirement already satisfied: pyasn1<0.6.0,>=0.4.6 in /usr/local/lib/python3.10/dist-packages (from pyasn1-modules>=0.2.1->google-auth<3,>=1.6.3->tensorboard<2.13,>=2.12->tensorflow) (0.5.0)\n",
            "Requirement already satisfied: oauthlib>=3.0.0 in /usr/local/lib/python3.10/dist-packages (from requests-oauthlib>=0.7.0->google-auth-oauthlib<0.5,>=0.4.1->tensorboard<2.13,>=2.12->tensorflow) (3.2.2)\n"
          ]
        }
      ],
      "source": [
        "pip install tensorflow"
      ]
    },
    {
      "cell_type": "code",
      "execution_count": 4,
      "metadata": {
        "id": "dBUHMTresE2H"
      },
      "outputs": [],
      "source": [
        "import tensorflow"
      ]
    },
    {
      "cell_type": "code",
      "execution_count": 5,
      "metadata": {
        "id": "g_BlK0xEoqxl"
      },
      "outputs": [],
      "source": [
        "import numpy as np\n",
        "import pandas as pd\n",
        "from sklearn.model_selection import train_test_split\n",
        "from sklearn.preprocessing import StandardScaler\n",
        "from tensorflow.keras.models import Sequential\n",
        "from tensorflow.keras.layers import LSTM, Dense, Dropout"
      ]
    },
    {
      "cell_type": "code",
      "execution_count": 6,
      "metadata": {
        "colab": {
          "base_uri": "https://localhost:8080/"
        },
        "id": "apK04DI5IxO9",
        "outputId": "d09b277b-98ec-483a-ff4f-a894034b4779"
      },
      "outputs": [
        {
          "output_type": "stream",
          "name": "stdout",
          "text": [
            "Shape of predictions: (170675, 1)\n"
          ]
        }
      ],
      "source": [
        "import pandas as pd\n",
        "\n",
        "# Set display options to show more columns and rows\n",
        "pd.set_option('display.max_columns', None)\n",
        "pd.set_option('display.max_rows', None)\n",
        "\n",
        "file_names = [\"/content/drive/MyDrive/S-1/Test_Label/1.txt\",\n",
        "              \"/content/drive/MyDrive/S-1/Test_Label/2.txt\",\n",
        "              \"/content/drive/MyDrive/S-1/Test_Label/3.txt\",\n",
        "              \"/content/drive/MyDrive/S-1/Test_Label/4.txt\",\n",
        "              \"/content/drive/MyDrive/S-1/Test_Label/5.txt\",\n",
        "              \"/content/drive/MyDrive/S-1/Test_Label/6.txt\",\n",
        "              \"/content/drive/MyDrive/S-1/Test_Label/7.txt\"]\n",
        "\n",
        "X_test = pd.DataFrame()\n",
        "\n",
        "for file_name in file_names:\n",
        "    data = pd.read_csv(file_name, delimiter=',', header=None)\n",
        "    X_test = pd.concat([X_test, data], axis=0)\n",
        "\n",
        "X_test.reset_index(drop=True, inplace=True)\n",
        "\n",
        "print(\"Shape of predictions:\", X_test.shape)\n",
        "\n"
      ]
    },
    {
      "cell_type": "code",
      "source": [
        "# Count occurrences of 1s and 0s\n",
        "label_counts = X_test[0].value_counts()\n",
        "\n",
        "# Calculate percentage\n",
        "label_percentages = (label_counts / len(X_test)) * 100\n",
        "\n",
        "# Display counts and percentages\n",
        "print(\"Counts of labels:\")\n",
        "print(label_counts)\n",
        "\n",
        "print(\"\\nPercentages of labels:\")\n",
        "print(label_percentages)\n"
      ],
      "metadata": {
        "id": "m1Vr_GIaEJIF",
        "outputId": "4a19a5a6-8836-4bf7-c89a-f0732285f68f",
        "colab": {
          "base_uri": "https://localhost:8080/"
        }
      },
      "execution_count": 8,
      "outputs": [
        {
          "output_type": "stream",
          "name": "stdout",
          "text": [
            "Counts of labels:\n",
            "0    159696\n",
            "1     10979\n",
            "Name: 0, dtype: int64\n",
            "\n",
            "Percentages of labels:\n",
            "0    93.567306\n",
            "1     6.432694\n",
            "Name: 0, dtype: float64\n"
          ]
        }
      ]
    },
    {
      "cell_type": "code",
      "source": [
        "import pandas as pd\n",
        "\n",
        "# Set display options to show more columns and rows\n",
        "pd.set_option('display.max_columns', None)\n",
        "pd.set_option('display.max_rows', None)\n",
        "\n",
        "file_names = [\"/content/drive/MyDrive/S-1/Test/1.txt\", \"/content/drive/MyDrive/S-1/Test/2.txt\", \"/content/drive/MyDrive/S-1/Test/3.txt\", \"/content/drive/MyDrive/S-1/Test/4.txt\", \"/content/drive/MyDrive/S-1/Test/5.txt\", \"/content/drive/MyDrive/S-1/Test/6.txt\", \"/content/drive/MyDrive/S-1/Test/7.txt\"]\n",
        "\n",
        "X_data = pd.DataFrame()\n",
        "\n",
        "for file_name in file_names:\n",
        "    data = pd.read_csv(file_name, delimiter=',', header=None)\n",
        "    X_data = pd.concat([X_data, data], axis=0)\n",
        "\n",
        "X_data.reset_index(drop=True, inplace=True)\n",
        "\n",
        "X_data.shape\n"
      ],
      "metadata": {
        "colab": {
          "base_uri": "https://localhost:8080/"
        },
        "id": "MPCQu8pbox5O",
        "outputId": "d2d5d436-2371-4707-9bf8-9bd5d15edf4a"
      },
      "execution_count": 7,
      "outputs": [
        {
          "output_type": "execute_result",
          "data": {
            "text/plain": [
              "(170675, 38)"
            ]
          },
          "metadata": {},
          "execution_count": 7
        }
      ]
    },
    {
      "cell_type": "code",
      "source": [
        "import numpy as np\n",
        "import pandas as pd\n",
        "from sklearn.model_selection import train_test_split\n",
        "from sklearn.preprocessing import StandardScaler\n",
        "from tensorflow.keras.models import Sequential\n",
        "from tensorflow.keras.layers import LSTM, Dense, Dropout\n",
        "from tensorflow.keras.callbacks import ModelCheckpoint\n",
        "\n",
        "# Assuming concatenated_data is your DataFrame with 38 sensor columns\n",
        "multivariate_data = concatenated_data.copy()\n",
        "\n",
        "# Standardize the data\n",
        "scaler = StandardScaler()\n",
        "scaled_data = scaler.fit_transform(multivariate_data)\n",
        "\n",
        "# Define sequences for training\n",
        "def create_sequences(data, sequence_length):\n",
        "    sequences = []\n",
        "    for i in range(len(data) - sequence_length + 1):\n",
        "        seq = data[i:i + sequence_length, :]\n",
        "        sequences.append(seq)\n",
        "    return np.array(sequences)\n",
        "\n",
        "sequence_length = 10  # Adjust based on your requirements\n",
        "X = create_sequences(scaled_data, sequence_length)\n",
        "\n",
        "# Split the data into training and validation sets\n",
        "X_train, X_val = train_test_split(X, test_size=0.2, shuffle=False)\n",
        "\n",
        "# Build the LSTM model for binary classification\n",
        "model = Sequential()\n",
        "model.add(LSTM(units=50, input_shape=(X_train.shape[1], X_train.shape[2])))\n",
        "model.add(Dropout(0.2))\n",
        "model.add(Dense(units=1, activation='sigmoid'))  # Output layer for binary classification\n",
        "model.compile(optimizer='adam', loss='binary_crossentropy', metrics=['accuracy'])  # Use binary_crossentropy for binary classification\n",
        "\n",
        "# Define a ModelCheckpoint callback to save the best weights\n",
        "checkpoint = ModelCheckpoint(\"best_model_weights.h5\", save_best_only=True, save_weights_only=True, monitor='val_loss', mode='min', verbose=1)\n",
        "\n",
        "# Train the model\n",
        "epochs = 3  # Adjust the number of epochs based on your requirements\n",
        "best_val_accuracy = 0.0\n",
        "best_threshold = 0.5  # Initial threshold for binary classification\n",
        "for epoch in range(epochs):\n",
        "    history = model.fit(X_train, np.ones(X_train.shape[0]), epochs=1, batch_size=32, validation_data=(X_val, np.ones(X_val.shape[0])), callbacks=[checkpoint], verbose=1)\n",
        "\n",
        "    # Calculate validation accuracy after each epoch\n",
        "    predictions_val = model.predict(X_val)\n",
        "    predictions_val_binary = (predictions_val > best_threshold).astype(int)\n",
        "\n",
        "    validation_accuracy = np.sum(predictions_val_binary.flatten() == np.ones(X_val.shape[0])) / X_val.shape[0]\n",
        "\n",
        "    # Adjust threshold dynamically based on validation accuracy\n",
        "    if validation_accuracy > best_val_accuracy:\n",
        "        best_val_accuracy = validation_accuracy\n",
        "        best_threshold = 0.5  # In binary classification, threshold is typically 0.5\n",
        "\n",
        "    print(f\"Epoch {epoch + 1}/{epochs} - Validation Accuracy: {validation_accuracy * 100:.2f}% - Threshold: {best_threshold:.4f}\")\n"
      ],
      "metadata": {
        "colab": {
          "base_uri": "https://localhost:8080/"
        },
        "id": "pOUOc4tK9xE7",
        "outputId": "3a79930e-3df0-42d6-d59c-773baaad30bc"
      },
      "execution_count": 17,
      "outputs": [
        {
          "output_type": "stream",
          "name": "stdout",
          "text": [
            "4855/4859 [============================>.] - ETA: 0s - loss: 0.0022 - accuracy: 0.9996\n",
            "Epoch 1: val_loss improved from inf to 0.73337, saving model to best_model_weights.h5\n",
            "4859/4859 [==============================] - 46s 9ms/step - loss: 0.0022 - accuracy: 0.9996 - val_loss: 0.7334 - val_accuracy: 0.6298\n",
            "1215/1215 [==============================] - 6s 4ms/step\n",
            "Epoch 1/3 - Validation Accuracy: 62.98% - Threshold: 0.5000\n",
            "4857/4859 [============================>.] - ETA: 0s - loss: 1.4730e-06 - accuracy: 1.0000\n",
            "Epoch 1: val_loss did not improve from 0.73337\n",
            "4859/4859 [==============================] - 43s 9ms/step - loss: 1.4725e-06 - accuracy: 1.0000 - val_loss: 0.7911 - val_accuracy: 0.6283\n",
            "1215/1215 [==============================] - 4s 3ms/step\n",
            "Epoch 2/3 - Validation Accuracy: 62.83% - Threshold: 0.5000\n",
            "4854/4859 [============================>.] - ETA: 0s - loss: 1.5093e-07 - accuracy: 1.0000\n",
            "Epoch 1: val_loss did not improve from 0.73337\n",
            "4859/4859 [==============================] - 42s 9ms/step - loss: 1.5081e-07 - accuracy: 1.0000 - val_loss: 0.8752 - val_accuracy: 0.6252\n",
            "1215/1215 [==============================] - 5s 4ms/step\n",
            "Epoch 3/3 - Validation Accuracy: 62.52% - Threshold: 0.5000\n"
          ]
        }
      ]
    },
    {
      "cell_type": "code",
      "source": [
        "def find_best_threshold(predictions, threshold_candidates):\n",
        "    best_f1_score = 0\n",
        "    best_threshold = 0\n",
        "\n",
        "    for threshold in threshold_candidates:\n",
        "        binary_predictions = (predictions > threshold).astype(int)\n",
        "        # Assuming you have ground truth labels for validation set (y_val)\n",
        "        true_positive = np.sum((binary_predictions == 1) & (y_val == 1))\n",
        "        false_positive = np.sum((binary_predictions == 1) & (y_val == 0))\n",
        "        false_negative = np.sum((binary_predictions == 0) & (y_val == 1))\n",
        "\n",
        "        precision = true_positive / (true_positive + false_positive + 1e-10)\n",
        "        recall = true_positive / (true_positive + false_negative + 1e-10)\n",
        "        f1_score = 2 * (precision * recall) / (precision + recall + 1e-10)\n",
        "\n",
        "        if f1_score > best_f1_score:\n",
        "            best_f1_score = f1_score\n",
        "            best_threshold = threshold\n",
        "\n",
        "    return best_threshold\n"
      ],
      "metadata": {
        "id": "QfHKPmAERZFf"
      },
      "execution_count": 10,
      "outputs": []
    },
    {
      "cell_type": "code",
      "source": [
        "import numpy as np\n",
        "import pandas as pd\n",
        "from sklearn.model_selection import train_test_split\n",
        "from sklearn.preprocessing import StandardScaler\n",
        "from tensorflow.keras.models import Sequential\n",
        "from tensorflow.keras.layers import LSTM, Dense, Dropout\n",
        "from tensorflow.keras.callbacks import ModelCheckpoint\n",
        "\n",
        "# Assuming concatenated_data is your DataFrame with 38 sensor columns\n",
        "multivariate_data = concatenated_data.copy()\n",
        "\n",
        "# Standardize the data\n",
        "scaler = StandardScaler()\n",
        "scaled_data = scaler.fit_transform(multivariate_data)\n",
        "\n",
        "# Define sequences for training\n",
        "def create_sequences(data, sequence_length):\n",
        "    sequences = []\n",
        "    for i in range(len(data) - sequence_length + 1):\n",
        "        seq = data[i:i + sequence_length, :]\n",
        "        sequences.append(seq)\n",
        "    return np.array(sequences)\n",
        "\n",
        "sequence_length = 10  # Adjust based on your requirements\n",
        "X = create_sequences(scaled_data, sequence_length)\n",
        "\n",
        "# Split the data into training and validation sets\n",
        "X_train, X_val = train_test_split(X, test_size=0.2, shuffle=False)\n",
        "\n",
        "# Build the LSTM model for binary classification\n",
        "model = Sequential()\n",
        "model.add(LSTM(units=50, input_shape=(X_train.shape[1], X_train.shape[2]), return_sequences=True))\n",
        "model.add(Dropout(0.2))\n",
        "model.add(LSTM(units=50, return_sequences=True))\n",
        "model.add(Dropout(0.2))\n",
        "model.add(LSTM(units=50))\n",
        "model.add(Dropout(0.2))\n",
        "model.add(Dense(units=1, activation='sigmoid'))  # Output layer for binary classification\n",
        "model.compile(optimizer='adam', loss='mean_squared_error', metrics=['accuracy'])  # Use mean squared error for regression\n",
        "\n",
        "# Define a ModelCheckpoint callback to save the best weights\n",
        "checkpoint = ModelCheckpoint(\"best_model_weights.h5\", save_best_only=True, save_weights_only=True, monitor='val_loss', mode='min', verbose=1)\n",
        "\n",
        "# Train the model\n",
        "epochs = 4  # Adjust the number of epochs based on your requirements\n",
        "best_threshold = 0.5  # Initial threshold for binary classification\n",
        "for epoch in range(epochs):\n",
        "    history = model.fit(X_train, np.ones(X_train.shape[0]), epochs=1, batch_size=16, validation_data=(X_val, np.ones(X_val.shape[0])), callbacks=[checkpoint], verbose=1)\n",
        "\n",
        "    # Calculate validation accuracy after each epoch\n",
        "    predictions_val = model.predict(X_val)\n",
        "    predictions_val_binary = (predictions_val > best_threshold).astype(int)\n",
        "\n",
        "    # Adjust threshold dynamically based on validation predictions\n",
        "    threshold_candidates = np.linspace(0, 1, 100)\n",
        "\n",
        "\n",
        "    # Assuming you want to print accuracy without ground truth labels\n",
        "    validation_accuracy = np.sum(predictions_val_binary.flatten() == np.ones(X_val.shape[0])) / X_val.shape[0]\n",
        "\n",
        "    print(f\"Epoch {epoch + 1}/{epochs} - Validation Accuracy: {validation_accuracy * 100:.2f}% - Threshold: {best_threshold:.4f}\")\n"
      ],
      "metadata": {
        "id": "9GM7Pci9OvQ9",
        "outputId": "76a50617-0011-4fa9-92b3-ecdb7b9f1a11",
        "colab": {
          "base_uri": "https://localhost:8080/"
        }
      },
      "execution_count": 29,
      "outputs": [
        {
          "output_type": "stream",
          "name": "stdout",
          "text": [
            "9717/9718 [============================>.] - ETA: 0s - loss: 2.9245e-04 - accuracy: 0.9998\n",
            "Epoch 1: val_loss improved from inf to 0.13592, saving model to best_model_weights.h5\n",
            "9718/9718 [==============================] - 222s 22ms/step - loss: 2.9242e-04 - accuracy: 0.9998 - val_loss: 0.1359 - val_accuracy: 0.7489\n",
            "1215/1215 [==============================] - 13s 9ms/step\n",
            "Epoch 1/4 - Validation Accuracy: 74.89% - Threshold: 0.5000\n",
            "9718/9718 [==============================] - ETA: 0s - loss: 4.4384e-09 - accuracy: 1.0000\n",
            "Epoch 1: val_loss did not improve from 0.13592\n",
            "9718/9718 [==============================] - 215s 22ms/step - loss: 4.4384e-09 - accuracy: 1.0000 - val_loss: 0.1446 - val_accuracy: 0.7508\n",
            "1215/1215 [==============================] - 12s 10ms/step\n",
            "Epoch 2/4 - Validation Accuracy: 75.08% - Threshold: 0.5000\n",
            "9718/9718 [==============================] - ETA: 0s - loss: 1.5561e-10 - accuracy: 1.0000\n",
            "Epoch 1: val_loss did not improve from 0.13592\n",
            "9718/9718 [==============================] - 209s 21ms/step - loss: 1.5561e-10 - accuracy: 1.0000 - val_loss: 0.1481 - val_accuracy: 0.7535\n",
            "1215/1215 [==============================] - 11s 9ms/step\n",
            "Epoch 3/4 - Validation Accuracy: 75.35% - Threshold: 0.5000\n",
            "9717/9718 [============================>.] - ETA: 0s - loss: 4.6907e-11 - accuracy: 1.0000\n",
            "Epoch 1: val_loss did not improve from 0.13592\n",
            "9718/9718 [==============================] - 213s 22ms/step - loss: 4.6904e-11 - accuracy: 1.0000 - val_loss: 0.1488 - val_accuracy: 0.7551\n",
            "1215/1215 [==============================] - 10s 8ms/step\n",
            "Epoch 4/4 - Validation Accuracy: 75.51% - Threshold: 0.5000\n"
          ]
        }
      ]
    },
    {
      "cell_type": "code",
      "source": [
        "import numpy as np\n",
        "import pandas as pd\n",
        "from sklearn.model_selection import train_test_split\n",
        "from sklearn.preprocessing import StandardScaler\n",
        "from tensorflow.keras.models import Sequential\n",
        "from tensorflow.keras.layers import LSTM, Dense, Dropout\n",
        "from tensorflow.keras.callbacks import ModelCheckpoint\n",
        "from sklearn.metrics import roc_curve, auc\n",
        "\n",
        "# Assuming concatenated_data is your DataFrame with 38 sensor columns\n",
        "multivariate_data = concatenated_data.copy()\n",
        "\n",
        "# Standardize the data\n",
        "scaler = StandardScaler()\n",
        "scaled_data = scaler.fit_transform(multivariate_data)\n",
        "\n",
        "# Define sequences for training\n",
        "def create_sequences(data, sequence_length):\n",
        "    sequences = []\n",
        "    for i in range(len(data) - sequence_length + 1):\n",
        "        seq = data[i:i + sequence_length, :]\n",
        "        sequences.append(seq)\n",
        "    return np.array(sequences)\n",
        "\n",
        "sequence_length = 10  # Adjust based on your requirements\n",
        "X = create_sequences(scaled_data, sequence_length)\n",
        "\n",
        "# Split the data into training and validation sets\n",
        "X_train, X_val = train_test_split(X, test_size=0.2, shuffle=False)\n",
        "\n",
        "# Build the LSTM model for binary classification\n",
        "model = Sequential()\n",
        "model.add(LSTM(units=50, input_shape=(X_train.shape[1], X_train.shape[2]), return_sequences=True))\n",
        "model.add(Dropout(0.2))\n",
        "model.add(LSTM(units=50, return_sequences=True))\n",
        "model.add(Dropout(0.2))\n",
        "model.add(LSTM(units=50))\n",
        "model.add(Dropout(0.2))\n",
        "model.add(Dense(units=1, activation='sigmoid'))  # Output layer for binary classification\n",
        "model.compile(optimizer='adam', loss='mean_squared_error', metrics=['accuracy'])  # Use mean squared error for regression\n",
        "\n",
        "# Define a ModelCheckpoint callback to save the best weights\n",
        "checkpoint = ModelCheckpoint(\"best_model_weights.h5\", save_best_only=True, save_weights_only=True, monitor='val_loss', mode='min', verbose=1)\n",
        "\n",
        "# Train the model\n",
        "epochs = 4  # Adjust the number of epochs based on your requirements\n",
        "best_threshold = 0.5  # Initial threshold for binary classification\n",
        "for epoch in range(epochs):\n",
        "    history = model.fit(X_train, np.ones(X_train.shape[0]), epochs=1, batch_size=16, validation_data=(X_val, np.ones(X_val.shape[0])), callbacks=[checkpoint], verbose=1)\n",
        "\n",
        "    # Calculate validation accuracy after each epoch\n",
        "    predictions_val = model.predict(X_val)\n",
        "\n",
        "    try:\n",
        "        fpr, tpr, thresholds = roc_curve(np.ones(X_val.shape[0]), predictions_val)\n",
        "\n",
        "        # Find threshold that maximizes Youden's J statistic\n",
        "        optimal_idx = np.argmax(tpr - fpr)\n",
        "        best_threshold = thresholds[optimal_idx]\n",
        "    except ValueError:\n",
        "        # Handle the case where ROC curve calculation is not possible\n",
        "        pass\n",
        "\n",
        "    predictions_val_binary = (predictions_val > best_threshold).astype(int)\n",
        "\n",
        "    # Assuming you want to print accuracy without ground truth labels\n",
        "    validation_accuracy = np.sum(predictions_val_binary.flatten() == np.ones(X_val.shape[0])) / X_val.shape[0]\n",
        "\n",
        "    print(f\"Epoch {epoch + 1}/{epochs} - Validation Accuracy: {validation_accuracy * 100:.2f}% - Threshold: {best_threshold:.4f}\")\n"
      ],
      "metadata": {
        "id": "5dzhNtEmmm9J",
        "outputId": "1dbb0028-de89-46cf-a003-87fb77882c9e",
        "colab": {
          "base_uri": "https://localhost:8080/"
        }
      },
      "execution_count": 27,
      "outputs": [
        {
          "metadata": {
            "tags": null
          },
          "name": "stdout",
          "output_type": "stream",
          "text": [
            "9717/9718 [============================>.] - ETA: 0s - loss: 2.6326e-04 - accuracy: 0.9999\n",
            "Epoch 1: val_loss improved from inf to 0.26447, saving model to best_model_weights.h5\n",
            "9718/9718 [==============================] - 269s 27ms/step - loss: 2.6323e-04 - accuracy: 0.9999 - val_loss: 0.2645 - val_accuracy: 0.5987\n",
            "1215/1215 [==============================] - 15s 11ms/step\n"
          ]
        },
        {
          "metadata": {
            "tags": null
          },
          "name": "stderr",
          "output_type": "stream",
          "text": [
            "/usr/local/lib/python3.10/dist-packages/sklearn/metrics/_ranking.py:1020: UndefinedMetricWarning: No negative samples in y_true, false positive value should be meaningless\n",
            "  warnings.warn(\n"
          ]
        },
        {
          "metadata": {
            "tags": null
          },
          "name": "stdout",
          "output_type": "stream",
          "text": [
            "Epoch 1/4 - Validation Accuracy: 0.00% - Threshold: 2.0000\n",
            "9718/9718 [==============================] - ETA: 0s - loss: 2.4944e-09 - accuracy: 1.0000\n",
            "Epoch 1: val_loss did not improve from 0.26447\n",
            "9718/9718 [==============================] - 244s 25ms/step - loss: 2.4944e-09 - accuracy: 1.0000 - val_loss: 0.2791 - val_accuracy: 0.5995\n",
            "1215/1215 [==============================] - 14s 11ms/step\n"
          ]
        },
        {
          "metadata": {
            "tags": null
          },
          "name": "stderr",
          "output_type": "stream",
          "text": [
            "/usr/local/lib/python3.10/dist-packages/sklearn/metrics/_ranking.py:1020: UndefinedMetricWarning: No negative samples in y_true, false positive value should be meaningless\n",
            "  warnings.warn(\n"
          ]
        },
        {
          "metadata": {
            "tags": null
          },
          "name": "stdout",
          "output_type": "stream",
          "text": [
            "Epoch 2/4 - Validation Accuracy: 0.00% - Threshold: 2.0000\n",
            "9717/9718 [============================>.] - ETA: 0s - loss: 1.5206e-10 - accuracy: 1.0000\n",
            "Epoch 1: val_loss did not improve from 0.26447\n",
            "9718/9718 [==============================] - 233s 24ms/step - loss: 1.5205e-10 - accuracy: 1.0000 - val_loss: 0.2878 - val_accuracy: 0.6005\n",
            "1215/1215 [==============================] - 13s 10ms/step\n"
          ]
        },
        {
          "metadata": {
            "tags": null
          },
          "name": "stderr",
          "output_type": "stream",
          "text": [
            "/usr/local/lib/python3.10/dist-packages/sklearn/metrics/_ranking.py:1020: UndefinedMetricWarning: No negative samples in y_true, false positive value should be meaningless\n",
            "  warnings.warn(\n"
          ]
        },
        {
          "metadata": {
            "tags": null
          },
          "name": "stdout",
          "output_type": "stream",
          "text": [
            "Epoch 3/4 - Validation Accuracy: 0.00% - Threshold: 2.0000\n",
            "9718/9718 [==============================] - ETA: 0s - loss: 5.3728e-11 - accuracy: 1.0000\n",
            "Epoch 1: val_loss did not improve from 0.26447\n",
            "9718/9718 [==============================] - 235s 24ms/step - loss: 5.3728e-11 - accuracy: 1.0000 - val_loss: 0.2899 - val_accuracy: 0.6017\n",
            "1215/1215 [==============================] - 12s 10ms/step\n",
            "Epoch 4/4 - Validation Accuracy: 0.00% - Threshold: 2.0000\n"
          ]
        },
        {
          "metadata": {
            "tags": null
          },
          "name": "stderr",
          "output_type": "stream",
          "text": [
            "/usr/local/lib/python3.10/dist-packages/sklearn/metrics/_ranking.py:1020: UndefinedMetricWarning: No negative samples in y_true, false positive value should be meaningless\n",
            "  warnings.warn(\n"
          ]
        }
      ]
    },
    {
      "cell_type": "code",
      "source": [
        "model = Sequential()\n",
        "model.add(LSTM(units=50, input_shape=(X_train.shape[1], X_train.shape[2]), return_sequences=True))\n",
        "model.add(Dropout(0.2))\n",
        "model.add(LSTM(units=50, return_sequences=True))\n",
        "model.add(Dropout(0.2))\n",
        "model.add(LSTM(units=50))\n",
        "model.add(Dropout(0.2))\n",
        "model.add(Dense(units=1, activation='sigmoid'))  # Output layer for binary classification\n",
        "model.compile(optimizer='adam', loss='binary_crossentropy', metrics=['accuracy'])\n",
        "\n",
        "# Assuming X_data is your DataFrame with 38 sensor columns\n",
        "X_data_np = X_data.to_numpy()\n",
        "\n",
        "# Standardize the test data using the same scaler\n",
        "scaled_X_data = scaler.fit_transform(X_data_np)\n",
        "\n",
        "# Create sequences for the test data\n",
        "X_data_sequences = create_sequences(scaled_X_data, sequence_length)\n",
        "\n",
        "# Use the trained model to predict sequences on the test data\n",
        "predictions_data = model.predict(X_data_sequences)\n",
        "\n",
        "# Apply a threshold of 0.5 for binary classification\n",
        "predictions_data_binary = (predictions_data > 0.5).astype(int)\n",
        "\n",
        "# Flatten the predictions for comparison\n",
        "predictions_data_binary_flat = predictions_data_binary.flatten()\n",
        "\n",
        "# Flatten the actual labels for comparison\n",
        "actual_labels_flat = X_test.to_numpy().flatten()  # Assuming X_test is the correct label for X_data_np\n",
        "actual_labels_flat = actual_labels_flat[:-9]  # Assuming the last 9 elements are not part of the test set\n",
        "\n",
        "TP = np.sum((predictions_data_binary_flat == 1) & (actual_labels_flat == 1))\n",
        "TN = np.sum((predictions_data_binary_flat == 0) & (actual_labels_flat == 0))\n",
        "FP = np.sum((predictions_data_binary_flat == 1) & (actual_labels_flat == 0))\n",
        "FN = np.sum((predictions_data_binary_flat == 0) & (actual_labels_flat == 1))\n",
        "\n",
        "# Print the metrics\n",
        "print(\"True Positives:\", TP)\n",
        "print(\"True Negatives:\", TN)\n",
        "print(\"False Positives:\", FP)\n",
        "print(\"False Negatives:\", FN)\n",
        "\n",
        "# Print shapes and values for diagnosis\n",
        "print(\"Shapes - predictions_data_binary_flat:\", predictions_data_binary_flat.shape, \"actual_labels_flat shape:\", actual_labels_flat.shape)\n",
        "print(\"Values - predictions_data_binary_flat:\", predictions_data_binary_flat, \"actual_labels_flat values:\", actual_labels_flat)\n",
        "\n",
        "# Calculate accuracy on the test data\n",
        "accuracy_data = np.sum(predictions_data_binary_flat == actual_labels_flat) / actual_labels_flat.shape[0]\n",
        "\n",
        "print(f\"Test Accuracy on X_data: {accuracy_data * 100:.2f}% - Threshold: 0.5\")\n"
      ],
      "metadata": {
        "id": "6Mz90jCc5L9E",
        "outputId": "906d53ba-53e2-4062-b567-9097f4f951d6",
        "colab": {
          "base_uri": "https://localhost:8080/"
        }
      },
      "execution_count": 34,
      "outputs": [
        {
          "output_type": "stream",
          "name": "stdout",
          "text": [
            "5334/5334 [==============================] - 51s 9ms/step\n",
            "True Positives: 7082\n",
            "True Negatives: 79399\n",
            "False Positives: 80288\n",
            "False Negatives: 3897\n",
            "Shapes - predictions_data_binary_flat: (170666,) actual_labels_flat shape: (170666,)\n",
            "Values - predictions_data_binary_flat: [1 1 1 ... 1 1 1] actual_labels_flat values: [0 0 0 ... 0 0 0]\n",
            "Test Accuracy on X_data: 50.67% - Threshold: 0.5\n"
          ]
        }
      ]
    },
    {
      "cell_type": "code",
      "source": [
        "model = Sequential()\n",
        "model.add(LSTM(units=50, input_shape=(X_train.shape[1], X_train.shape[2]), return_sequences=True))\n",
        "model.add(Dropout(0.2))\n",
        "model.add(LSTM(units=50, return_sequences=True))\n",
        "model.add(Dropout(0.2))\n",
        "model.add(LSTM(units=50))\n",
        "model.add(Dropout(0.2))\n",
        "model.add(Dense(units=1, activation='sigmoid'))  # Output layer for binary classification\n",
        "model.compile(optimizer='adam', loss='binary_crossentropy', metrics=['accuracy'])\n",
        "\n",
        "# Assuming X_data is your DataFrame with 38 sensor columns\n",
        "X_data_np = X_data.to_numpy()\n",
        "\n",
        "# Standardize the test data using the same scaler\n",
        "scaled_X_data = scaler.fit_transform(X_data_np)\n",
        "\n",
        "# Create sequences for the test data\n",
        "X_data_sequences = create_sequences(scaled_X_data, sequence_length)\n",
        "\n",
        "# Use the trained model to predict sequences on the test data\n",
        "predictions_data = model.predict(X_data_sequences)\n",
        "\n",
        "# Apply a threshold of 0.5 for binary classification\n",
        "predictions_data_binary = (predictions_data > 0.5).astype(int)\n",
        "\n",
        "# Flatten the predictions for comparison\n",
        "predictions_data_binary_flat = predictions_data_binary.flatten()\n",
        "\n",
        "# Flatten the actual labels for comparison\n",
        "actual_labels_flat = X_test.to_numpy().flatten()  # Assuming X_test is the correct label for X_data_np\n",
        "actual_labels_flat = actual_labels_flat[:-9]  # Assuming the last 9 elements are not part of the test set\n",
        "\n",
        "# Print counts of 1's and 0's in the predicted binary labels\n",
        "print(\"Count of 1's in predictions:\", np.sum(predictions_data_binary_flat == 1))\n",
        "print(\"Count of 0's in predictions:\", np.sum(predictions_data_binary_flat == 0))\n",
        "\n",
        "# Print the metrics\n",
        "TP = np.sum((predictions_data_binary_flat == 1) & (actual_labels_flat == 1))\n",
        "TN = np.sum((predictions_data_binary_flat == 0) & (actual_labels_flat == 0))\n",
        "FP = np.sum((predictions_data_binary_flat == 1) & (actual_labels_flat == 0))\n",
        "FN = np.sum((predictions_data_binary_flat == 0) & (actual_labels_flat == 1))\n",
        "\n",
        "# Print the metrics\n",
        "print(\"True Positives:\", TP)\n",
        "print(\"True Negatives:\", TN)\n",
        "print(\"False Positives:\", FP)\n",
        "print(\"False Negatives:\", FN)\n",
        "\n",
        "# Print shapes and values for diagnosis\n",
        "print(\"Shapes - predictions_data_binary_flat:\", predictions_data_binary_flat.shape, \"actual_labels_flat shape:\", actual_labels_flat.shape)\n",
        "print(\"Values - predictions_data_binary_flat:\", predictions_data_binary_flat, \"actual_labels_flat values:\", actual_labels_flat)\n",
        "\n",
        "# Calculate accuracy on the test data\n",
        "accuracy_data = np.sum(predictions_data_binary_flat == actual_labels_flat) / actual_labels_flat.shape[0]\n",
        "\n",
        "print(f\"Test Accuracy on X_data: {accuracy_data * 100:.2f}% - Threshold: 0.5\")\n"
      ],
      "metadata": {
        "id": "PnkyyZ-vVIPg",
        "outputId": "8b0650a9-5757-415e-8d38-189b8ab32e3f",
        "colab": {
          "base_uri": "https://localhost:8080/"
        }
      },
      "execution_count": 40,
      "outputs": [
        {
          "output_type": "stream",
          "name": "stdout",
          "text": [
            "5334/5334 [==============================] - 48s 9ms/step\n",
            "Count of 1's in predictions: 70748\n",
            "Count of 0's in predictions: 99918\n",
            "True Positives: 4870\n",
            "True Negatives: 93809\n",
            "False Positives: 65878\n",
            "False Negatives: 6109\n",
            "Shapes - predictions_data_binary_flat: (170666,) actual_labels_flat shape: (170666,)\n",
            "Values - predictions_data_binary_flat: [0 0 0 ... 0 0 0] actual_labels_flat values: [0 0 0 ... 0 0 0]\n",
            "Test Accuracy on X_data: 57.82% - Threshold: 0.5\n"
          ]
        }
      ]
    },
    {
      "cell_type": "code",
      "source": [
        "import matplotlib.pyplot as plt"
      ],
      "metadata": {
        "id": "w3Y1M_XgezE5"
      },
      "execution_count": 44,
      "outputs": []
    },
    {
      "cell_type": "code",
      "source": [
        "\n",
        "# Build the LSTM model for binary classification\n",
        "model = Sequential()\n",
        "model.add(LSTM(units=50, input_shape=(X_train.shape[1], X_train.shape[2]), return_sequences=True))\n",
        "model.add(Dropout(0.2))\n",
        "model.add(LSTM(units=50, return_sequences=True))\n",
        "model.add(Dropout(0.2))\n",
        "model.add(LSTM(units=50))\n",
        "model.add(Dropout(0.2))\n",
        "model.add(Dense(units=1, activation='sigmoid'))  # Output layer for binary classification\n",
        "model.compile(optimizer='adam', loss='binary_crossentropy', metrics=['accuracy'])\n",
        "\n",
        "\n",
        "# Assuming X_data is your DataFrame with 38 sensor columns\n",
        "X_data_np = X_data.to_numpy()\n",
        "\n",
        "# Standardize the test data using the same scaler\n",
        "scaled_X_data = scaler.fit_transform(X_data_np)\n",
        "\n",
        "# Create sequences for the test data\n",
        "X_data_sequences = create_sequences(scaled_X_data, sequence_length)\n",
        "\n",
        "# Use the trained model to predict sequences on the test data\n",
        "predictions_data = model.predict(X_data_sequences)\n",
        "\n",
        "# Apply a threshold of 0.5 for binary classification\n",
        "\n",
        "import matplotlib.pyplot as plt\n",
        "\n",
        "# Plot predicted values as dots\n",
        "plt.scatter(range(len(predictions_data)), predictions_data, label='Predicted', color='blue')\n",
        "\n",
        "# Plot actual labels as dots\n",
        "plt.scatter(range(len(actual_labels_flat)), actual_labels_flat, label='Actual', color='green')\n",
        "\n",
        "# Add labels and title\n",
        "plt.xlabel('Time Step')\n",
        "plt.ylabel('Binary Classification')\n",
        "plt.title('Comparison of Predicted vs Actual Labels')\n",
        "plt.legend()  # Display the legend\n",
        "\n",
        "# Set y-axis format to display decimal markings\n",
        "plt.gca().yaxis.set_major_formatter(plt.matplotlib.ticker.StrMethodFormatter(\"{x:0.2f}\"))\n",
        "\n",
        "# Draw horizontal lines for specific y-axis values\n",
        "y_values_to_indicate = [0.5, 0.52, 0.54, 0.56, 0.58, 0.6]\n",
        "for y_value in y_values_to_indicate:\n",
        "    plt.axhline(y_value, color='red', linestyle='--', label=f'Y={y_value}')\n",
        "\n",
        "# Show the plot\n",
        "plt.show()\n",
        "\n",
        "\n"
      ],
      "metadata": {
        "id": "cf_V0o5JZh5e",
        "outputId": "288e3cf6-1dfb-436c-baa7-8bfc72f6a7ce",
        "colab": {
          "base_uri": "https://localhost:8080/",
          "height": 546
        }
      },
      "execution_count": 52,
      "outputs": [
        {
          "output_type": "stream",
          "name": "stdout",
          "text": [
            "5334/5334 [==============================] - 65s 12ms/step\n"
          ]
        },
        {
          "output_type": "stream",
          "name": "stderr",
          "text": [
            "/usr/local/lib/python3.10/dist-packages/IPython/core/pylabtools.py:151: UserWarning: Creating legend with loc=\"best\" can be slow with large amounts of data.\n",
            "  fig.canvas.print_figure(bytes_io, **kw)\n"
          ]
        },
        {
          "output_type": "display_data",
          "data": {
            "text/plain": [
              "<Figure size 640x480 with 1 Axes>"
            ],
            "image/png": "[encoded data removed]"
          },
          "metadata": {}
        }
      ]
    },
    {
      "cell_type": "code",
      "source": [
        "predictions_data_binary = (predictions_data > 0.54).astype(int)\n",
        "\n",
        "# Flatten the predictions for comparison\n",
        "predictions_data_binary_flat = predictions_data_binary.flatten()\n",
        "\n",
        "# Flatten the actual labels for comparison\n",
        "actual_labels_flat = X_test.to_numpy().flatten()  # Assuming X_test is the correct label for X_data_np\n",
        "actual_labels_flat = actual_labels_flat[:-9]  # Assuming the last 9 elements are not part of the test set\n",
        "\n",
        "# Print counts of 1's and 0's in the predicted binary labels\n",
        "print(\"Count of 1's in predictions:\", np.sum(predictions_data_binary_flat == 1))\n",
        "print(\"Count of 0's in predictions:\", np.sum(predictions_data_binary_flat == 0))\n",
        "\n",
        "# Print the metrics\n",
        "TP = np.sum((predictions_data_binary_flat == 1) & (actual_labels_flat == 1))\n",
        "TN = np.sum((predictions_data_binary_flat == 0) & (actual_labels_flat == 0))\n",
        "FP = np.sum((predictions_data_binary_flat == 1) & (actual_labels_flat == 0))\n",
        "FN = np.sum((predictions_data_binary_flat == 0) & (actual_labels_flat == 1))\n",
        "\n",
        "# Print the metrics\n",
        "print(\"True Positives:\", TP)\n",
        "print(\"True Negatives:\", TN)\n",
        "print(\"False Positives:\", FP)\n",
        "print(\"False Negatives:\", FN)\n",
        "\n",
        "# Print shapes and values for diagnosis\n",
        "print(\"Shapes - predictions_data_binary_flat:\", predictions_data_binary_flat.shape, \"actual_labels_flat shape:\", actual_labels_flat.shape)\n",
        "print(\"Values - predictions_data_binary_flat:\", predictions_data_binary_flat, \"actual_labels_flat values:\", actual_labels_flat)\n",
        "\n",
        "# Calculate accuracy on the test data\n",
        "accuracy_data = np.sum(predictions_data_binary_flat == actual_labels_flat) / actual_labels_flat.shape[0]\n",
        "\n",
        "print(f\"Test Accuracy on X_data: {accuracy_data * 100:.2f}% \")\n"
      ],
      "metadata": {
        "id": "x48y3PSalpwy",
        "outputId": "0da86e56-a27e-46e4-b61a-dc7a1abaf143",
        "colab": {
          "base_uri": "https://localhost:8080/"
        }
      },
      "execution_count": 53,
      "outputs": [
        {
          "output_type": "stream",
          "name": "stdout",
          "text": [
            "Count of 1's in predictions: 6886\n",
            "Count of 0's in predictions: 163780\n",
            "True Positives: 1080\n",
            "True Negatives: 153881\n",
            "False Positives: 5806\n",
            "False Negatives: 9899\n",
            "Shapes - predictions_data_binary_flat: (170666,) actual_labels_flat shape: (170666,)\n",
            "Values - predictions_data_binary_flat: [0 0 0 ... 0 0 0] actual_labels_flat values: [0 0 0 ... 0 0 0]\n",
            "Test Accuracy on X_data: 90.80% - Threshold: 0.5\n"
          ]
        }
      ]
    }
  ],
  "metadata": {
    "accelerator": "TPU",
    "colab": {
      "provenance": [],
      "mount_file_id": "1RbKZP-kYUbWbJ538KUViSfpoiojFa26z",
      "authorship_tag": "ABX9TyNk9Icufdw6x5oTy7c56nMq",
      "include_colab_link": true
    },
    "kernelspec": {
      "display_name": "Python 3",
      "name": "python3"
    },
    "language_info": {
      "name": "python"
    }
  },
  "nbformat": 4,
  "nbformat_minor": 0
}