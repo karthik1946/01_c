{
  "nbformat": 4,
  "nbformat_minor": 0,
  "metadata": {
    "colab": {
      "provenance": [],
      "authorship_tag": "ABX9TyPOokPsBFqkregef6heRsU1",
      "include_colab_link": true
    },
    "kernelspec": {
      "name": "python3",
      "display_name": "Python 3"
    },
    "language_info": {
      "name": "python"
    }
  },
  "cells": [
    {
      "cell_type": "markdown",
      "metadata": {
        "id": "view-in-github",
        "colab_type": "text"
      },
      "source": [
        "<a href=\"https://colab.research.google.com/github/karthik1946/01_c/blob/main/spam/ham%20classifier.ipynb\" target=\"_parent\"><img src=\"https://colab.research.google.com/assets/colab-badge.svg\" alt=\"Open In Colab\"/></a>"
      ]
    },
    {
      "cell_type": "code",
      "execution_count": null,
      "metadata": {
        "colab": {
          "base_uri": "https://localhost:8080/"
        },
        "id": "uX4UOw2p3R6-",
        "outputId": "500913ed-c766-437a-859d-ecdae0b5a049"
      },
      "outputs": [
        {
          "output_type": "stream",
          "name": "stderr",
          "text": [
            "<ipython-input-7-5b1bc30e597b>:19: FutureWarning: The default value of regex will change from True to False in a future version.\n",
            "  training_set['SMS'] = training_set['SMS'].str.replace(   '\\W', ' ') # Removes punctuation\n"
          ]
        },
        {
          "output_type": "stream",
          "name": "stdout",
          "text": [
            "P(Spam|message): 8.121189988519404e-05\n",
            "P(Ham|message): 1.3358922461641075e-05\n",
            "Label: Spam\n"
          ]
        }
      ],
      "source": [
        "import pandas as pd\n",
        "import re\n",
        "\n",
        "sms_spam = pd.read_csv('SMSSpamCollection', sep='\\t',header=None, names=['Label', 'SMS'])\n",
        "\n",
        "# Randomize the dataset\n",
        "data_randomized = sms_spam.sample(frac=1, random_state=42)\n",
        "\n",
        "# Calculate index for split\n",
        "training_test_index = round(len(data_randomized) * 0.8)\n",
        "\n",
        "# Split into training and test sets\n",
        "training_set = data_randomized[:training_test_index].reset_index(drop=True)\n",
        "test_set = data_randomized[training_test_index:].reset_index(drop=True)\n",
        "\n",
        "# print(training_set.shape)\n",
        "# print(test_set.shape)\n",
        "\n",
        "training_set['SMS'] = training_set['SMS'].str.replace(   '\\W', ' ') # Removes punctuation\n",
        "training_set['SMS'] = training_set['SMS'].str.lower()\n",
        "\n",
        "\n",
        "training_set['SMS'] = training_set['SMS'].str.split()\n",
        "\n",
        "vocabulary = []\n",
        "for sms in training_set['SMS']:\n",
        "   for word in sms:\n",
        "      vocabulary.append(word)\n",
        "\n",
        "vocabulary = list(set(vocabulary))\n",
        "\n",
        "word_counts_per_sms = {unique_word: [0] * len(training_set['SMS']) for unique_word in vocabulary}\n",
        "\n",
        "for index, sms in enumerate(training_set['SMS']):\n",
        "   for word in sms:\n",
        "      word_counts_per_sms[word][index] += 1\n",
        "\n",
        "word_counts = pd.DataFrame(word_counts_per_sms)\n",
        "word_counts.head(20)\n",
        "\n",
        "training_set_clean = pd.concat([training_set, word_counts], axis=1)\n",
        "training_set_clean.head(20)\n",
        "\n",
        "\n",
        "\n",
        "\n",
        "# Isolating spam and ham messages first\n",
        "spam_messages = training_set_clean[training_set_clean['Label'] == 'spam']\n",
        "ham_messages = training_set_clean[training_set_clean['Label'] == 'ham']\n",
        "\n",
        "# P(Spam) and P(Ham)\n",
        "p_spam = len(spam_messages) / len(training_set_clean)\n",
        "p_ham = len(ham_messages) / len(training_set_clean)\n",
        "\n",
        "# N_Spam\n",
        "n_words_per_spam_message = spam_messages['SMS'].apply(len)\n",
        "n_spam = n_words_per_spam_message.sum()\n",
        "\n",
        "# N_Ham\n",
        "n_words_per_ham_message = ham_messages['SMS'].apply(len)\n",
        "n_ham = n_words_per_ham_message.sum()\n",
        "\n",
        "# N_Vocabulary\n",
        "n_vocabulary = len(vocabulary)\n",
        "\n",
        "\n",
        "\n",
        "\n",
        "\n",
        "# Initiate parameters\n",
        "parameters_spam = {unique_word:0 for unique_word in vocabulary}\n",
        "parameters_ham = {unique_word:0 for unique_word in vocabulary}\n",
        "\n",
        "# Calculate parameters\n",
        "for word in vocabulary:\n",
        "   n_word_given_spam = spam_messages[word].sum() # spam_messages already defined\n",
        "   p_word_given_spam = (n_word_given_spam + 1) / (n_spam + 1*n_vocabulary)\n",
        "   parameters_spam[word] = p_word_given_spam\n",
        "\n",
        "   n_word_given_ham = ham_messages[word].sum() # ham_messages already defined\n",
        "   p_word_given_ham = (n_word_given_ham + 1) / (n_ham + 1*n_vocabulary)\n",
        "   parameters_ham[word] = p_word_given_ham\n",
        "\n",
        "\n",
        "\n",
        "\n",
        "\n",
        "\n",
        "\n",
        "def classify(message):\n",
        "\n",
        "\n",
        "   message = re.sub('\\W', ' ', message)\n",
        "   message = message.lower().split()\n",
        "\n",
        "   p_spam_given_message = p_spam\n",
        "   p_ham_given_message = p_ham\n",
        "\n",
        "   for word in message:\n",
        "      if word in parameters_spam:\n",
        "         p_spam_given_message *= parameters_spam[word]\n",
        "\n",
        "      if word in parameters_ham:\n",
        "         p_ham_given_message *= parameters_ham[word]\n",
        "\n",
        "   print('P(Spam|message):', p_spam_given_message)\n",
        "   print('P(Ham|message):', p_ham_given_message)\n",
        "\n",
        "   if p_ham_given_message > p_spam_given_message:\n",
        "      print('Label: Ham')\n",
        "   elif p_ham_given_message < p_spam_given_message:\n",
        "      print('Label: Spam')\n",
        "   else:\n",
        "      print('Equal probability, have a human classify this!')\n",
        "\n",
        "classify(\"unsubscribe\")"
      ]
    }
  ]
}